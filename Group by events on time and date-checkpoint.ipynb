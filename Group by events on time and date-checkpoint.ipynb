{
 "cells": [
  {
   "cell_type": "code",
   "execution_count": null,
   "metadata": {},
   "outputs": [],
   "source": [
    "import pandas as pd\n",
    "import numpy as np\n",
    "\n",
    "in_path = '/Users/20182000/Documents/Process Mining/Datasets/%s.csv'\n",
    "test_df = pd.read_csv(in_path % 'BPI_Challenge_2012-test')\n",
    "train_df = pd.read_csv(in_path % 'BPI_Challenge_2012-training')\n",
    "full_df = train_df.append(test_df).reset_index(drop=True)\n",
    "\n",
    "full_df['event time:timestamp']= pd.to_datetime(full_df['event time:timestamp']) "
   ]
  },
  {
   "cell_type": "code",
   "execution_count": null,
   "metadata": {},
   "outputs": [],
   "source": [
    "full_df[\"event date\"] = full_df['event time:timestamp'].dt.date\n",
    "date_time = full_df['event date']\n",
    "datetime_index = pd.DatetimeIndex(date_time.values)\n",
    "full_df.set_index([\"event date\", \"event concept:name\"], inplace=True)\n",
    "full_df"
   ]
  }
 ],
 "metadata": {
  "kernelspec": {
   "display_name": "Python 3",
   "language": "python",
   "name": "python3"
  },
  "language_info": {
   "codemirror_mode": {
    "name": "ipython",
    "version": 3
   },
   "file_extension": ".py",
   "mimetype": "text/x-python",
   "name": "python",
   "nbconvert_exporter": "python",
   "pygments_lexer": "ipython3",
   "version": "3.7.3"
  }
 },
 "nbformat": 4,
 "nbformat_minor": 2
}
